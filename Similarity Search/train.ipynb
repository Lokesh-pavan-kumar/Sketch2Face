{
 "cells": [
  {
   "cell_type": "code",
   "source": [
    "import torch\n",
    "import torch.optim as optim\n",
    "from torch.utils.data import DataLoader\n",
    "from torchvision.models import resnet50  # Pretrained network\n",
    "import torchvision.transforms as T\n",
    "from model import SiameseNetwork\n",
    "from loss import ContrastiveLoss\n",
    "from data import SiameseDataset, Grayscale\n",
    "from utils import train_fn\n",
    "from pathlib import Path\n",
    "import matplotlib.pyplot as plt\n",
    "\n",
    "plt.style.use(\"ggplot\")\n",
    "% matplotlib inline"
   ],
   "metadata": {
    "collapsed": false,
    "pycharm": {
     "name": "#%%\n"
    }
   },
   "execution_count": null,
   "outputs": []
  },
  {
   "cell_type": "code",
   "execution_count": null,
   "outputs": [],
   "source": [
    "device = torch.device(\"cuda\" if torch.cuda.is_available() else \"cpu\")\n",
    "print(f\"Running on device: {device}\")\n",
    "# training, network configuration\n",
    "transform = T.Compose([\n",
    "    T.Resize(257),\n",
    "    T.CenterCrop(256),\n",
    "    T.ToTensor(),\n",
    "    Grayscale()\n",
    "])"
   ],
   "metadata": {
    "collapsed": false,
    "pycharm": {
     "name": "#%%\n"
    }
   }
  },
  {
   "cell_type": "code",
   "execution_count": null,
   "outputs": [],
   "source": [
    "# Directory structure\n",
    "# root\n",
    "# | -> Samples-1\n",
    "# | -> Samples-2\n",
    "root = Path(\"\")  # point towards the path of the dataset\n"
   ],
   "metadata": {
    "collapsed": false,
    "pycharm": {
     "name": "#%%\n"
    }
   }
  },
  {
   "cell_type": "code",
   "execution_count": null,
   "outputs": [],
   "source": [
    "emb_dim = 1024\n",
    "bs = 16\n",
    "n_epochs = 10\n",
    "lr = 1e-3\n",
    "alpha = 0.25\n",
    "freeze = True"
   ],
   "metadata": {
    "collapsed": false,
    "pycharm": {
     "name": "#%%\n"
    }
   }
  },
  {
   "cell_type": "code",
   "execution_count": null,
   "outputs": [],
   "source": [
    "siamese_ds = SiameseDataset(root / \"sketches\", root / \"photos\", transform=transform)\n",
    "siamese_dl = DataLoader(siamese_ds, bs, shuffle=True)\n",
    "\n",
    "encoder_network = resnet50(True)\n",
    "network = SiameseNetwork(encoder_network=encoder_network, emb_dim=emb_dim, rate=0.6, freeze=freeze).to(device)\n",
    "optimizer = optim.Adam(network.parameters(), lr=lr)\n",
    "loss_fn = ContrastiveLoss(alpha=alpha, device=device)"
   ],
   "metadata": {
    "collapsed": false,
    "pycharm": {
     "name": "#%%\n"
    }
   }
  },
  {
   "cell_type": "code",
   "execution_count": null,
   "outputs": [],
   "source": [
    "# Uncomment to run the network\n",
    "losses = []\n",
    "for _ in range(n_epochs):\n",
    "    loss = train_fn(network, loss_fn, optimizer, siamese_dl, device)\n",
    "    losses.append(loss)"
   ],
   "metadata": {
    "collapsed": false,
    "pycharm": {
     "name": "#%%\n"
    }
   }
  },
  {
   "cell_type": "code",
   "execution_count": null,
   "outputs": [],
   "source": [
    "# Loss Vs. Epochs\n",
    "plt.plot(losses)"
   ],
   "metadata": {
    "collapsed": false,
    "pycharm": {
     "name": "#%%\n"
    }
   }
  },
  {
   "cell_type": "markdown",
   "source": [
    "# Checking network on the train set"
   ],
   "metadata": {
    "collapsed": false
   }
  },
  {
   "cell_type": "code",
   "execution_count": null,
   "outputs": [],
   "source": [
    "train_sketches, train_photos = [], []\n",
    "for sketches, photos in siamese_dl:\n",
    "    train_sketches.append(sketches)\n",
    "    train_photos.append(photos)\n",
    "\n",
    "train_sketches = torch.stack(train_sketches, dim=0)\n",
    "train_photos = torch.stack(train_photos, dim=0)"
   ],
   "metadata": {
    "collapsed": false,
    "pycharm": {
     "name": "#%%\n"
    }
   }
  },
  {
   "cell_type": "code",
   "execution_count": null,
   "outputs": [],
   "source": [
    "# image_embeddings = network.encode_samples(train_photos)\n",
    "# image_embeddings = image_embeddings / torch.norm(image_embeddings)\n",
    "# index = 0\n",
    "#\n",
    "# sketch = train_sketches[index]\n",
    "# if sketch.ndim == 3:\n",
    "#     sketch = sketch.unsqueeze(0)\n",
    "#\n",
    "# sketch_embedding = network.encode_samples(sketch)\n",
    "# sketch_embedding = sketch_embedding / torch.norm(sketch_embedding)"
   ],
   "metadata": {
    "collapsed": false,
    "pycharm": {
     "name": "#%%\n"
    }
   }
  }
 ],
 "metadata": {
  "kernelspec": {
   "display_name": "Python 3",
   "language": "python",
   "name": "python3"
  },
  "language_info": {
   "codemirror_mode": {
    "name": "ipython",
    "version": 2
   },
   "file_extension": ".py",
   "mimetype": "text/x-python",
   "name": "python",
   "nbconvert_exporter": "python",
   "pygments_lexer": "ipython2",
   "version": "2.7.6"
  }
 },
 "nbformat": 4,
 "nbformat_minor": 0
}